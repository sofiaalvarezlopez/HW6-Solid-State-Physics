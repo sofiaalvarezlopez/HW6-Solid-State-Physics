{
 "cells": [
  {
   "cell_type": "markdown",
   "metadata": {},
   "source": [
    "<h3> Daniel Dorado - Sofía Álvarez </h3>"
   ]
  },
  {
   "cell_type": "code",
   "execution_count": 1,
   "metadata": {},
   "outputs": [],
   "source": [
    "import numpy as np\n",
    "import pandas as pd\n",
    "from scipy import interpolate\n",
    "import matplotlib.pyplot as plt\n",
    "from scipy.integrate import quad"
   ]
  },
  {
   "cell_type": "markdown",
   "metadata": {},
   "source": [
    "<h1 align='center'> Tarea 6: Física del Estado Sólido </h1>"
   ]
  },
  {
   "cell_type": "markdown",
   "metadata": {},
   "source": [
    "<h3> 1. Magnetism in One-Dimensional Systems - The Heisenberg Model for Infinite Spin (Michael E. Fisher) </h3>\n",
    "\n",
    "Calculamos el calor específico en función de la temperatura, haciendo $C/Nk$ vs $kT/J$.\n",
    "\n",
    "<h4> Cadena de Heisenberg de espín infinito </h4>\n",
    "En este caso, el calor específico está dado por: $$\\frac{C_N}{Nk} = 1 - \\frac{K^2}{\\sinh^2{K}},$$ donde $K = J/2kT$. Si definimos $x = kT/J$, tal que $K = 1/2x$ y $y = C_N/Nk$, $$y = 1 - \\frac{(1/2x)^2}{\\sinh^2{(1/2x)}} $$\n",
    "<h4>Modelo de Ising con $s=1/2$</h4>\n",
    "Si adaptamos la capacidad calorífica de <a href=http://216.92.172.113/courses/phys39/simulations/Gould%20Ising%20assignment%20chap%205.pdf>Gould y Tobochnik</a> para $s=1/2$, y de acuerdo con <a href=\"https://journals.aps.org/pr/abstract/10.1103/PhysRev.127.1508\">Katsura</a> tenemos:\n",
    "\\begin{align}\n",
    "\\frac{C_N}{Nk} &= \\left(\\frac{J}{2kT}\\right)^2 \\mathrm{sech}\\left(\\frac{J}{2kT}\\right)^2 = K^2  \\mathrm{sech}\\left(K\\right)^2.\n",
    "\\end{align} \n",
    "Entonces, $$y = \\frac{1}{4x^2} \\mathrm{sech}\\left(1/2x\\right)^2 = \\frac{1}{4x^2 \\cosh^2{\\left(1/2x\\right). }}$$\n",
    "<h4>Cadenas de Heisenberg antiferromagnéticas y ferromagnéticas</h4>\n",
    "Utilizamos los datos obtenidos por <a href=\"https://www.sciencedirect.com/science/article/abs/pii/003189147490072X\">Blöte</a>.\n",
    "\n",
    "<h4>Cadena puramente transversa ($J^{||} = 0$) con espín s=1/2:</h4>\n",
    "De acuerdo con <a href=\"https://journals.aps.org/pr/abstract/10.1103/PhysRev.127.1508\">Katsura</a>, el calor específico en este caso está dado por:\n",
    "$$\\frac{C_N}{Nk} = \\frac{4K^2}{\\pi}\\int_0^\\pi \\frac{\\cos^2{\\omega}}{\\cosh^2({2K\\cos{\\omega}})} d\\omega.$$\n",
    "Usando la definición de $x$ y $y$,\n",
    "$$y = \\frac{(1/x)^2}{\\pi}\\int_0^\\pi \\frac{\\cos^2{\\omega}}{\\cosh^2({(1/x)\\cos{\\omega}})} d\\omega.$$"
   ]
  },
  {
   "cell_type": "code",
   "execution_count": 2,
   "metadata": {},
   "outputs": [],
   "source": [
    "def C_N_Heisenberg_infinite_spin(x):\n",
    "    return 1 - ((1/(2*x))**2)/(np.sinh(1/(2*x))**2)"
   ]
  },
  {
   "cell_type": "code",
   "execution_count": 3,
   "metadata": {},
   "outputs": [],
   "source": [
    "def C_N_Pure_Transverse(x):\n",
    "    def integrando(w,x):\n",
    "        return (np.cos(w)**2)/(np.cosh(np.cos(w)/x)**2)\n",
    "    I =np.array([quad(integrando, 0, np.pi, args=i)[0] for i in x])\n",
    "    return I/(np.pi * (x**2))"
   ]
  },
  {
   "cell_type": "code",
   "execution_count": 4,
   "metadata": {},
   "outputs": [],
   "source": [
    "def C_N_Ising(x):\n",
    "    # return 1/(x * np.cosh(1/x))**2\n",
    "    return 1/(2*x * np.cosh(1/(2*x)))**2"
   ]
  },
  {
   "cell_type": "code",
   "execution_count": 5,
   "metadata": {},
   "outputs": [],
   "source": [
    "x = np.linspace(0.01, 1.4, 1000)\n",
    "x_heis_F = pd.read_csv('F_Heisenberg.txt', delimiter=' ')['x']\n",
    "x_heis_AF = pd.read_csv('AF_Heisenberg.txt', delimiter=' ')['x']\n",
    "y_heis_inf_spin = C_N_Heisenberg_infinite_spin(x)\n",
    "y_pure_transverse = C_N_Pure_Transverse(x)\n",
    "y_ising = C_N_Ising(x)\n",
    "y_FH = pd.read_csv('F_Heisenberg.txt', delimiter=' ')['c']\n",
    "y_AFH = pd.read_csv('AF_Heisenberg.txt', delimiter=' ')['c']"
   ]
  },
  {
   "cell_type": "code",
   "execution_count": 6,
   "metadata": {},
   "outputs": [],
   "source": [
    "ext_FH = interpolate.interp1d(x_heis_F, y_FH, fill_value='extrapolate', kind='slinear')\n",
    "x_falt_FH = np.linspace(0.0,0.029,10)\n",
    "y_falt_FH = ext_FH(x_falt_FH)\n",
    "x_heis_F = np.concatenate((x_falt_FH, x_heis_F),axis=0)\n",
    "y_FH = np.concatenate((y_falt_FH, y_FH),axis=0)"
   ]
  },
  {
   "cell_type": "code",
   "execution_count": 7,
   "metadata": {},
   "outputs": [],
   "source": [
    "ext_AFH = interpolate.interp1d(x_heis_AF, y_AFH, fill_value='extrapolate', kind='quadratic')\n",
    "x_falt_AFH = np.linspace(0.01,0.2,20)\n",
    "y_falt_AFH = ext_AFH(x_falt_AFH)\n",
    "x_heis_AF = np.concatenate((x_falt_AFH, x_heis_AF),axis=0)\n",
    "y_AFH = np.concatenate((y_falt_AFH, y_AFH),axis=0)"
   ]
  },
  {
   "cell_type": "code",
   "execution_count": 8,
   "metadata": {},
   "outputs": [
    {
     "data": {
      "image/png": "[encoded data removed]",
      "text/plain": [
       "<Figure size 360x222.75 with 1 Axes>"
      ]
     },
     "metadata": {
      "needs_background": "light"
     },
     "output_type": "display_data"
    }
   ],
   "source": [
    "plt.figure(figsize=(5,5/1.61616))\n",
    "plt.plot(x, y_heis_inf_spin, c='darkviolet', label='a')\n",
    "plt.plot(x, y_ising, c='pink', label='b')\n",
    "plt.plot(x_heis_AF, y_AFH, c='orangered', label='c')\n",
    "plt.plot(x_heis_F, y_FH, c='limegreen', label='d')\n",
    "plt.plot(x, y_pure_transverse, c='dodgerblue', label='e')\n",
    "plt.ylabel('$\\mathrm{C}_\\mathrm{N}/\\mathrm{Nk}$')\n",
    "plt.xlabel('$\\mathrm{kT}/\\mathrm{J}$')\n",
    "plt.legend()\n",
    "plt.tight_layout()\n",
    "plt.savefig('fig1_fisher.pdf')"
   ]
  },
  {
   "cell_type": "code",
   "execution_count": null,
   "metadata": {},
   "outputs": [],
   "source": [
    "def chi_Ising(x):\n",
    "    return 1 - (2/3)*np.exp(-2*x) + (1/3)*np.exp(-4*x) - (2/15)*np.exp(-6*x) + 1/45*np.exp(-8*x)\n",
    "\n",
    "def u(K):\n",
    "    return (np.tanh(K))**(-1)-1/K"
   ]
  },
  {
   "cell_type": "code",
   "execution_count": null,
   "metadata": {},
   "outputs": [],
   "source": [
    "x = np.linspace(0.01, 15, 1000)\n",
    "y = np.linspace(0., 15, 1000)\n",
    "plt.figure(figsize=(8,4.5))\n",
    "plt.plot(x,chi_Ising(1/x), color='paleturquoise', label='Modelo de Ising')\n",
    "plt.plot(x,4*x**(-1)*(1-u(2/x))/(1+u(2/x)), color='salmon', label='Cadena de Heisenberg ferromagnética')\n",
    "plt.xlabel(r'$kT/J$')\n",
    "plt.ylabel(r'$\\chi(T)/\\chi_0$')\n",
    "plt.legend()\n",
    "plt.show()"
   ]
  },
  {
   "cell_type": "markdown",
   "metadata": {},
   "source": [
    "<h3> 2. Quantum phase transitions: a variational mean-field perspective (Richter  + Derzhko) </h3>\n",
    "\n"
   ]
  },
  {
   "cell_type": "markdown",
   "metadata": {},
   "source": [
    "Graficamos $E_0/N$ en función de $J'/J$:"
   ]
  },
  {
   "cell_type": "code",
   "execution_count": 60,
   "metadata": {},
   "outputs": [],
   "source": [
    "def E_0(x):\n",
    "    if x <= 3:\n",
    "        return -3*x/8 - ( 3/(8*x) )*( 1 - x/3 )**2\n",
    "    else:\n",
    "        return -3*x/8"
   ]
  },
  {
   "cell_type": "code",
   "execution_count": 61,
   "metadata": {},
   "outputs": [],
   "source": [
    "x_1 = np.linspace(1,3,1000)\n",
    "x_2 = np.linspace(3.01,5,1000)\n",
    "y_1 = [E_0(i) for i in x_1]\n",
    "y_2 = [E_0(i) for i in x_2]"
   ]
  },
  {
   "cell_type": "code",
   "execution_count": 73,
   "metadata": {},
   "outputs": [
    {
     "data": {
      "image/png": "[encoded data removed]",
      "text/plain": [
       "<Figure size 360x222.75 with 1 Axes>"
      ]
     },
     "metadata": {
      "needs_background": "light"
     },
     "output_type": "display_data"
    }
   ],
   "source": [
    "plt.figure(figsize=(5,5/1.61616))\n",
    "plt.plot(x_1,y_1, c='turquoise',linewidth=4.0, label=\"J'$/$J $\\leq 3$\")\n",
    "plt.plot(x_2,y_2, '--', c='orange', linewidth=4.0, label=\"J'$/$J $> 3$\")\n",
    "plt.xlabel(\"J'$/$J\")\n",
    "plt.ylabel(\"$E_0/N$\")\n",
    "plt.legend()\n",
    "plt.savefig('06_fig4_richter.pdf')"
   ]
  },
  {
   "cell_type": "code",
   "execution_count": 101,
   "metadata": {},
   "outputs": [],
   "source": [
    "def dv_E_0(x):\n",
    "    if x <= 3:\n",
    "        return -3/8 + (1/4)*( 1 - x/3 )\n",
    "    else:\n",
    "        return -3/8"
   ]
  },
  {
   "cell_type": "code",
   "execution_count": 102,
   "metadata": {},
   "outputs": [],
   "source": [
    "x_1 = np.linspace(2.8,3,1000)\n",
    "x_2 = np.linspace(3.001,3.2,1000)\n",
    "d_y_1 = [dv_E_0(i) for i in x_1]\n",
    "d_y_2 = [dv_E_0(i) for i in x_2]"
   ]
  },
  {
   "cell_type": "code",
   "execution_count": 104,
   "metadata": {},
   "outputs": [
    {
     "data": {
      "image/png": "[encoded data removed]",
      "text/plain": [
       "<Figure size 360x222.75 with 1 Axes>"
      ]
     },
     "metadata": {
      "needs_background": "light"
     },
     "output_type": "display_data"
    }
   ],
   "source": [
    "plt.figure(figsize=(5,5/1.61616))\n",
    "plt.plot(x_1,d_y_1, c='turquoise',linewidth=4.0, label=\"J'$/$J $\\leq 3$\")\n",
    "plt.plot(x_2,d_y_2, '--', c='orange', linewidth=4.0, label=\"J'$/$J $> 3$\")\n",
    "plt.xlabel(\"J'$/$J\")\n",
    "plt.ylabel(\"$E_0/N$\")\n",
    "plt.legend()\n",
    "plt.savefig('06_inset_fig4_richter.pdf')"
   ]
  },
  {
   "cell_type": "code",
   "execution_count": null,
   "metadata": {},
   "outputs": [],
   "source": []
  }
 ],
 "metadata": {
  "kernelspec": {
   "display_name": "Python 3",
   "language": "python",
   "name": "python3"
  },
  "language_info": {
   "codemirror_mode": {
    "name": "ipython",
    "version": 3
   },
   "file_extension": ".py",
   "mimetype": "text/x-python",
   "name": "python",
   "nbconvert_exporter": "python",
   "pygments_lexer": "ipython3",
   "version": "3.8.3"
  }
 },
 "nbformat": 4,
 "nbformat_minor": 4
}
